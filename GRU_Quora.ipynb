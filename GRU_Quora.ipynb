{
  "nbformat": 4,
  "nbformat_minor": 0,
  "metadata": {
    "accelerator": "GPU",
    "colab": {
      "name": "Copy of GRU_Glove.ipynb",
      "provenance": [],
      "collapsed_sections": [],
      "include_colab_link": true
    },
    "kernelspec": {
      "display_name": "Python 3",
      "language": "python",
      "name": "python3"
    },
    "language_info": {
      "codemirror_mode": {
        "name": "ipython",
        "version": 3
      },
      "file_extension": ".py",
      "mimetype": "text/x-python",
      "name": "python",
      "nbconvert_exporter": "python",
      "pygments_lexer": "ipython3",
      "version": "3.7.3"
    }
  },
  "cells": [
    {
      "cell_type": "markdown",
      "metadata": {
        "id": "view-in-github",
        "colab_type": "text"
      },
      "source": [
        "<a href=\"https://colab.research.google.com/github/vasist1987/MS_LJMU_Vasist/blob/master/GRU_Quora.ipynb\" target=\"_parent\"><img src=\"https://colab.research.google.com/assets/colab-badge.svg\" alt=\"Open In Colab\"/></a>"
      ]
    },
    {
      "cell_type": "code",
      "metadata": {
        "colab": {
          "base_uri": "https://localhost:8080/"
        },
        "id": "sBF3NXfLpw5z",
        "outputId": "6a91b1f1-2241-4dc5-d7b4-d9101a5c7b0e"
      },
      "source": [
        "!wget http://nlp.stanford.edu/data/glove.6B.zip\r\n",
        "!unzip glove*.zip"
      ],
      "execution_count": null,
      "outputs": [
        {
          "output_type": "stream",
          "text": [
            "--2021-01-27 08:24:28--  http://nlp.stanford.edu/data/glove.6B.zip\n",
            "Resolving nlp.stanford.edu (nlp.stanford.edu)... 171.64.67.140\n",
            "Connecting to nlp.stanford.edu (nlp.stanford.edu)|171.64.67.140|:80... connected.\n",
            "HTTP request sent, awaiting response... 302 Found\n",
            "Location: https://nlp.stanford.edu/data/glove.6B.zip [following]\n",
            "--2021-01-27 08:24:28--  https://nlp.stanford.edu/data/glove.6B.zip\n",
            "Connecting to nlp.stanford.edu (nlp.stanford.edu)|171.64.67.140|:443... connected.\n",
            "HTTP request sent, awaiting response... 301 Moved Permanently\n",
            "Location: http://downloads.cs.stanford.edu/nlp/data/glove.6B.zip [following]\n",
            "--2021-01-27 08:24:28--  http://downloads.cs.stanford.edu/nlp/data/glove.6B.zip\n",
            "Resolving downloads.cs.stanford.edu (downloads.cs.stanford.edu)... 171.64.64.22\n",
            "Connecting to downloads.cs.stanford.edu (downloads.cs.stanford.edu)|171.64.64.22|:80... connected.\n",
            "HTTP request sent, awaiting response... 200 OK\n",
            "Length: 862182613 (822M) [application/zip]\n",
            "Saving to: ‘glove.6B.zip.1’\n",
            "\n",
            "glove.6B.zip.1      100%[===================>] 822.24M  2.17MB/s    in 6m 34s  \n",
            "\n",
            "2021-01-27 08:31:03 (2.08 MB/s) - ‘glove.6B.zip.1’ saved [862182613/862182613]\n",
            "\n",
            "Archive:  glove.6B.zip\n",
            "replace glove.6B.50d.txt? [y]es, [n]o, [A]ll, [N]one, [r]ename: "
          ],
          "name": "stdout"
        }
      ]
    },
    {
      "cell_type": "code",
      "metadata": {
        "id": "pPygYH6SLqJp"
      },
      "source": [
        "from keras.preprocessing.text import Tokenizer\n",
        "from keras.preprocessing.sequence import pad_sequences\n",
        "\n",
        "import zipfile\n",
        "import os\n",
        "import numpy as np # linear algebra\n",
        "import pandas as pd # data processing, CSV file I/O (e.g. pd.read_csv)\n",
        "import string\n",
        "from tqdm import tqdm\n",
        "import math\n",
        "import re\n",
        "import matplotlib.pyplot as plt\n",
        "import seaborn as sns\n",
        "\n",
        "from sklearn.model_selection import train_test_split\n",
        "from sklearn.metrics import accuracy_score,confusion_matrix,classification_report,f1_score, precision_score, recall_score\n",
        "\n",
        "from tensorflow import keras\n",
        "from keras.layers import Input\n",
        "from keras import Model\n",
        "from keras.preprocessing import sequence,text\n",
        "from keras.preprocessing.text import Tokenizer\n",
        "from keras.models import Sequential\n",
        "from keras.layers import Dense,Dropout,Embedding,LSTM,Conv1D,GlobalMaxPooling1D,Flatten,MaxPooling1D,GRU,SpatialDropout1D,Bidirectional\n",
        "from keras.callbacks import EarlyStopping\n",
        "from keras.utils import to_categorical\n",
        "from keras.losses import categorical_crossentropy\n",
        "from keras.optimizers import Adam\n",
        "from keras.callbacks import Callback"
      ],
      "execution_count": null,
      "outputs": []
    },
    {
      "cell_type": "code",
      "metadata": {
        "colab": {
          "base_uri": "https://localhost:8080/"
        },
        "id": "hv2iNesgnD9i",
        "outputId": "d964afde-8b5e-42a3-93ee-88cfdcaea3a8"
      },
      "source": [
        "from google.colab import drive\r\n",
        "drive.mount('/content/drive')"
      ],
      "execution_count": null,
      "outputs": [
        {
          "output_type": "stream",
          "text": [
            "Drive already mounted at /content/drive; to attempt to forcibly remount, call drive.mount(\"/content/drive\", force_remount=True).\n"
          ],
          "name": "stdout"
        }
      ]
    },
    {
      "cell_type": "code",
      "metadata": {
        "id": "AgfMKp_tnblC"
      },
      "source": [
        "\r\n",
        "class dataImports():\r\n",
        "    \r\n",
        "    def __init__(self, df=None):\r\n",
        "        self.df = df\r\n",
        "        \r\n",
        "    def openZipFileCsv(self,zipPath,fileName):\r\n",
        "        zp=zipfile.ZipFile(zipPath,'r')\r\n",
        "        self.df= pd.read_csv(zp.open(fileName))\r\n",
        "        return self\r\n",
        "        \r\n",
        "    def import_Data_File(self,objectName,src_type,sheet=None):   \r\n",
        "        if src_type=='csv':\r\n",
        "            self.df=pd.read_csv(objectName)       \r\n",
        "        if src_type=='excel':\r\n",
        "            self.df=pd.read_excel(objectName, sheet_name = None)\r\n",
        "        return self\r\n",
        "    def import_Data_Database(self,src_type,tbname,server_name,db_name,uname,pwd):\r\n",
        "        if src_type=='mssql':\r\n",
        "            con=getConnectionMSSQL(server_name,db_name,uname,pwd)\r\n",
        "            self.df=selectFromDb(tbname,server_name,db_name,uname,pwd,con)\r\n",
        "        return self\r\n",
        "    \r\n",
        "        \r\n",
        "    def describe(self):              \r\n",
        "        print('------------------------------------DF Head-----------------------------------------')\r\n",
        "        print(self.df.head())\r\n",
        "        print('-------------------------------------Shape------------------------------------------')\r\n",
        "        print(self.df.shape)\r\n",
        "        print('--------------------------------------Info------------------------------------------')\r\n",
        "        print(self.df.info())\r\n",
        "        print('------------------------------DataSet Description-----------------------------------')\r\n",
        "        print(self.df.describe())\r\n",
        "        return self\r\n",
        "\r\n",
        "\r\n",
        "def importData(train_loc,train_file,test_loc,test_file,LowerCase):\r\n",
        "    df_train=(dataImports().openZipFileCsv(train_loc,train_file)).df\r\n",
        "    \r\n",
        "    df_test=(dataImports().openZipFileCsv(test_loc,test_file)).df\r\n",
        "    print()\r\n",
        "    if(LowerCase):\r\n",
        "        df_train=dataLowerCase(df_train,\"train Set\")\r\n",
        "        df_test=dataLowerCase(df_test,\"test Set\")\r\n",
        "    return df_train,df_test\r\n",
        "\r\n",
        "def dataLowerCase(DataFram,dataFrameName):\r\n",
        "    print(\"Invoking lower casing\")\r\n",
        "    #timeLogger(\"Start Time LowerCasing \" +dataFrameName)\r\n",
        "    result = DataFram.apply(lambda x: x.astype(str).str.lower()).apply(lambda x: x.astype(str).str.encode('ascii', 'ignore').str.decode('ascii'))\r\n",
        "    #timeLogger(\"End Time LowerCasing \"+dataFrameName)\r\n",
        "    return result\r\n",
        "\r\n",
        "from keras import backend as K\r\n",
        "\r\n",
        "def recall_m(y_true, y_pred):\r\n",
        "    true_positives = K.sum(K.round(K.clip(y_true * y_pred, 0, 1)))\r\n",
        "    possible_positives = K.sum(K.round(K.clip(y_true, 0, 1)))\r\n",
        "    recall = true_positives / (possible_positives + K.epsilon())\r\n",
        "    return recall\r\n",
        "\r\n",
        "def precision_m(y_true, y_pred):\r\n",
        "    true_positives = K.sum(K.round(K.clip(y_true * y_pred, 0, 1)))\r\n",
        "    predicted_positives = K.sum(K.round(K.clip(y_pred, 0, 1)))\r\n",
        "    precision = true_positives / (predicted_positives + K.epsilon())\r\n",
        "    return precision\r\n",
        "\r\n",
        "def f1_m(y_true, y_pred):\r\n",
        "    precision = precision_m(y_true, y_pred)\r\n",
        "    recall = recall_m(y_true, y_pred)\r\n",
        "    return 2*((precision*recall)/(precision+recall+K.epsilon()))"
      ],
      "execution_count": null,
      "outputs": []
    },
    {
      "cell_type": "code",
      "metadata": {
        "colab": {
          "base_uri": "https://localhost:8080/"
        },
        "id": "4E6GaRRknyI_",
        "outputId": "831c9dfa-3c0d-494a-ab6c-c9ae1967ca6e"
      },
      "source": [
        "df_train,df_test=importData('/content/drive/MyDrive/LJMU Masters/code/train.csv.zip','train.csv','/content/drive/MyDrive/LJMU Masters/code/test.csv.zip','test.csv',True)"
      ],
      "execution_count": null,
      "outputs": [
        {
          "output_type": "stream",
          "text": [
            "\n",
            "Invoking lower casing\n",
            "Invoking lower casing\n"
          ],
          "name": "stdout"
        }
      ]
    },
    {
      "cell_type": "code",
      "metadata": {
        "id": "hwPO1HMZI-d4"
      },
      "source": [
        "MAX_NB_WORDS = 100000    # max no. of words for tokenizer\n",
        "MAX_SEQUENCE_LENGTH = 100 # max length of each entry (sentence), including padding\n",
        "VALIDATION_SPLIT = 0.2   # data for validation (not used in training)\n",
        "EMBEDDING_DIM = 300  "
      ],
      "execution_count": null,
      "outputs": []
    },
    {
      "cell_type": "code",
      "metadata": {
        "id": "bwfUyVF2I-hJ"
      },
      "source": [
        "\n",
        "MAX_FEATURES = 166289\n",
        "MAX_WORDS = MAX_SEQUENCE_LENGTH"
      ],
      "execution_count": null,
      "outputs": []
    },
    {
      "cell_type": "code",
      "metadata": {
        "id": "AOTKYs2AwBTi"
      },
      "source": [
        " X_train, X_test, y_train, y_test = train_test_split(df_train[['question1','question2']], df_train['is_duplicate'], test_size = 0.30, stratify=df_train['is_duplicate'])"
      ],
      "execution_count": null,
      "outputs": []
    },
    {
      "cell_type": "code",
      "metadata": {
        "colab": {
          "base_uri": "https://localhost:8080/"
        },
        "id": "FGyRYAbXJa87",
        "outputId": "b5fd61c4-5fa9-49e2-f55f-ac787956356c"
      },
      "source": [
        "y_train = y_train.values\n",
        "y_test = y_test.values\n",
        "X_train_text1 = X_train['question1'].values\n",
        "X_train_text2 = X_train['question2'].values\n",
        "X_test_text1 = X_test['question1'].values\n",
        "X_test_text2 = X_test['question2'].values\n",
        "# X_val_text = df_test['question_text'].values\n",
        "#X_test_text = df_test['clean_question'].values\n",
        "print(X_train_text1.shape,X_train_text1.shape,y_train.shape)\n",
        "#print(X_test_text.shape)"
      ],
      "execution_count": null,
      "outputs": [
        {
          "output_type": "stream",
          "text": [
            "(283003,) (283003,) (283003,)\n"
          ],
          "name": "stdout"
        }
      ]
    },
    {
      "cell_type": "code",
      "metadata": {
        "id": "tMZ-pmPCJbDl"
      },
      "source": [
        "\n",
        "from scipy.sparse import hstack\n",
        "tokenizer = Tokenizer(num_words=MAX_FEATURES)\n",
        "tokenizer.fit_on_texts(list(X_train_text1+X_train_text2))\n",
        "X_train1 = tokenizer.texts_to_sequences(X_train_text1)\n",
        "X_train2 = tokenizer.texts_to_sequences(X_train_text2)\n",
        "\n",
        "X_test1 = tokenizer.texts_to_sequences(X_test_text1)\n",
        "X_test2 = tokenizer.texts_to_sequences(X_test_text2)\n",
        "# X_val = tokenizer.texts_to_sequences(X_val_text)\n",
        "#X_test = tokenizer.texts_to_sequences(X_test_text)"
      ],
      "execution_count": null,
      "outputs": []
    },
    {
      "cell_type": "code",
      "metadata": {
        "colab": {
          "base_uri": "https://localhost:8080/"
        },
        "id": "9GY1mgmcJbHN",
        "outputId": "5d8af3c8-9d9f-45c3-e936-a4fce592eec8"
      },
      "source": [
        "X_train1 = sequence.pad_sequences(X_train1, maxlen=MAX_WORDS)\n",
        "X_train2 = sequence.pad_sequences(X_train2, maxlen=MAX_WORDS)\n",
        "X_test1 = sequence.pad_sequences(X_test1, maxlen=MAX_WORDS)\n",
        "X_test2 = sequence.pad_sequences(X_test2, maxlen=MAX_WORDS)\n",
        "# X_test = sequence.pad_sequences(X_val, maxlen=MAX_WORDS)\n",
        "#X_test = sequence.pad_sequences(X_test, maxlen=MAX_WORDS)\n",
        "print(X_train1.shape,X_train2.shape)"
      ],
      "execution_count": null,
      "outputs": [
        {
          "output_type": "stream",
          "text": [
            "(283003, 100) (283003, 100)\n"
          ],
          "name": "stdout"
        }
      ]
    },
    {
      "cell_type": "code",
      "metadata": {
        "id": "dJRqClQnM2kT"
      },
      "source": [
        "\n",
        "def get_coefs(word, *arr):\n",
        "    return word, np.asarray(arr, dtype='float32')\n",
        "    \n",
        "def get_embed_mat(EMBEDDING_FILE, max_features,embed_dim):\n",
        "    # word vectors\n",
        "    embeddings_index = dict(get_coefs(*o.rstrip().rsplit(' ')) for o in open(EMBEDDING_FILE, encoding='utf8'))\n",
        "    print('Found %s word vectors.' % len(embeddings_index))\n",
        "\n",
        "    # embedding matrix\n",
        "    word_index = tokenizer.word_index\n",
        "    num_words = min(max_features, len(word_index) + 1)\n",
        "    all_embs = np.stack(embeddings_index.values()) #for random init\n",
        "    embedding_matrix = np.zeros((len(word_index) + 1, embed_dim))\n",
        "    for word, i in word_index.items():\n",
        "        if i >= max_features:\n",
        "            continue\n",
        "        embedding_vector = embeddings_index.get(word)\n",
        "        if embedding_vector is not None:\n",
        "            embedding_matrix[i] = embedding_vector\n",
        "    max_features = embedding_matrix.shape[0]\n",
        "    \n",
        "    return embedding_matrix"
      ],
      "execution_count": null,
      "outputs": []
    },
    {
      "cell_type": "code",
      "metadata": {
        "colab": {
          "base_uri": "https://localhost:8080/"
        },
        "id": "YURZfgWXM2n2",
        "outputId": "ebdb5227-cb89-4565-f0a1-0e92397e45a2"
      },
      "source": [
        "gloveEmbed = get_embed_mat('glove.6B.300d.txt', MAX_FEATURES, 300)"
      ],
      "execution_count": null,
      "outputs": [
        {
          "output_type": "stream",
          "text": [
            "Found 400000 word vectors.\n"
          ],
          "name": "stdout"
        },
        {
          "output_type": "stream",
          "text": [
            "/usr/local/lib/python3.6/dist-packages/IPython/core/interactiveshell.py:2882: FutureWarning: arrays to stack must be passed as a \"sequence\" type such as list or tuple. Support for non-sequence iterables such as generators is deprecated as of NumPy 1.16 and will raise an error in the future.\n",
            "  exec(code_obj, self.user_global_ns, self.user_ns)\n"
          ],
          "name": "stderr"
        }
      ]
    },
    {
      "cell_type": "code",
      "metadata": {
        "id": "BnvtlZ2rM2rI"
      },
      "source": [
        "word_index = tokenizer.word_index\n",
        "embedding_layer = Embedding(len(word_index) + 1,\n",
        "                            300,\n",
        "                            weights=[gloveEmbed],\n",
        "                            input_length=MAX_WORDS,\n",
        "                            trainable=False)"
      ],
      "execution_count": null,
      "outputs": []
    },
    {
      "cell_type": "code",
      "metadata": {
        "colab": {
          "base_uri": "https://localhost:8080/"
        },
        "id": "jSx85hBaDLIX",
        "outputId": "bb8efe59-d670-49ea-a1c1-2c641c856d07"
      },
      "source": [
        "opt = keras.optimizers.Adam(learning_rate=0.0001)\n",
        "model = Sequential()\n",
        "model.add(embedding_layer)\n",
        "model.add(Bidirectional(GRU(300, return_sequences = True)))\n",
        "model.add(Bidirectional(GRU(300, return_sequences = True)))\n",
        "model.add(Dropout(0.1))\n",
        "model.add(Bidirectional(GRU(300, return_sequences = True)))\n",
        "model.add(GlobalMaxPooling1D())\n",
        "model.add(Dense(16,activation='relu'))\n",
        "model.add(Dropout(0.1))\n",
        "model.add(Dense(1,activation='sigmoid'))\n",
        "model.compile(loss = 'binary_crossentropy', optimizer=opt,metrics =['accuracy',f1_m,precision_m, recall_m])\n",
        "print(model.summary())\n",
        "file='/content/drive/MyDrive/LJMU Masters/code/glove_01.png'"
      ],
      "execution_count": null,
      "outputs": [
        {
          "output_type": "stream",
          "text": [
            "Model: \"sequential_1\"\n",
            "_________________________________________________________________\n",
            "Layer (type)                 Output Shape              Param #   \n",
            "=================================================================\n",
            "embedding (Embedding)        (None, 100, 300)          23771400  \n",
            "_________________________________________________________________\n",
            "bidirectional_2 (Bidirection (None, 100, 600)          1083600   \n",
            "_________________________________________________________________\n",
            "bidirectional_3 (Bidirection (None, 100, 600)          1623600   \n",
            "_________________________________________________________________\n",
            "dropout_2 (Dropout)          (None, 100, 600)          0         \n",
            "_________________________________________________________________\n",
            "bidirectional_4 (Bidirection (None, 100, 600)          1623600   \n",
            "_________________________________________________________________\n",
            "global_max_pooling1d_1 (Glob (None, 600)               0         \n",
            "_________________________________________________________________\n",
            "dense_2 (Dense)              (None, 16)                9616      \n",
            "_________________________________________________________________\n",
            "dropout_3 (Dropout)          (None, 16)                0         \n",
            "_________________________________________________________________\n",
            "dense_3 (Dense)              (None, 1)                 17        \n",
            "=================================================================\n",
            "Total params: 28,111,833\n",
            "Trainable params: 4,340,433\n",
            "Non-trainable params: 23,771,400\n",
            "_________________________________________________________________\n",
            "None\n"
          ],
          "name": "stdout"
        }
      ]
    },
    {
      "cell_type": "code",
      "metadata": {
        "colab": {
          "background_save": true,
          "base_uri": "https://localhost:8080/"
        },
        "id": "tFcs5-NdOQHU",
        "outputId": "ee1f0408-e4a0-4261-fc97-ef6e925cf385"
      },
      "source": [
        "y_train = y_train.astype(np.float)\n",
        "model.fit([X_train1,X_train2], y_train,\n",
        "          epochs=10, batch_size=128, verbose=1)"
      ],
      "execution_count": null,
      "outputs": [
        {
          "output_type": "stream",
          "text": [
            "Epoch 1/10\n",
            "2211/2211 [==============================] - 351s 159ms/step - loss: 0.5651 - accuracy: 0.7096 - f1_m: 0.5167 - precision_m: 0.6612 - recall_m: 0.4395\n",
            "Epoch 2/10\n",
            "2211/2211 [==============================] - 352s 159ms/step - loss: 0.5273 - accuracy: 0.7388 - f1_m: 0.5893 - precision_m: 0.7000 - recall_m: 0.5169\n",
            "Epoch 3/10\n",
            "2211/2211 [==============================] - 352s 159ms/step - loss: 0.5061 - accuracy: 0.7534 - f1_m: 0.6179 - precision_m: 0.7193 - recall_m: 0.5489\n",
            "Epoch 4/10\n",
            "2211/2211 [==============================] - 352s 159ms/step - loss: 0.4885 - accuracy: 0.7652 - f1_m: 0.6416 - precision_m: 0.7317 - recall_m: 0.5780\n",
            "Epoch 5/10\n",
            "2211/2211 [==============================] - 352s 159ms/step - loss: 0.4698 - accuracy: 0.7766 - f1_m: 0.6630 - precision_m: 0.7448 - recall_m: 0.6038\n",
            "Epoch 6/10\n",
            "2211/2211 [==============================] - 352s 159ms/step - loss: 0.4508 - accuracy: 0.7882 - f1_m: 0.6845 - precision_m: 0.7570 - recall_m: 0.6308\n",
            "Epoch 7/10\n",
            "2211/2211 [==============================] - 352s 159ms/step - loss: 0.4303 - accuracy: 0.8006 - f1_m: 0.7063 - precision_m: 0.7702 - recall_m: 0.6580\n",
            "Epoch 8/10\n",
            "2211/2211 [==============================] - 352s 159ms/step - loss: 0.4088 - accuracy: 0.8128 - f1_m: 0.7275 - precision_m: 0.7833 - recall_m: 0.6850\n",
            "Epoch 9/10\n",
            "2211/2211 [==============================] - 352s 159ms/step - loss: 0.3866 - accuracy: 0.8251 - f1_m: 0.7474 - precision_m: 0.7948 - recall_m: 0.7110\n",
            "Epoch 10/10\n",
            "2211/2211 [==============================] - 353s 160ms/step - loss: 0.3623 - accuracy: 0.8388 - f1_m: 0.7698 - precision_m: 0.8092 - recall_m: 0.7392\n"
          ],
          "name": "stdout"
        },
        {
          "output_type": "execute_result",
          "data": {
            "text/plain": [
              "<tensorflow.python.keras.callbacks.History at 0x7fdefa5d97f0>"
            ]
          },
          "metadata": {
            "tags": []
          },
          "execution_count": 0
        }
      ]
    },
    {
      "cell_type": "code",
      "metadata": {
        "colab": {
          "base_uri": "https://localhost:8080/"
        },
        "id": "1MJQxwnmWEad",
        "outputId": "32d6db79-2dd7-44f7-8824-500ed036ed51"
      },
      "source": [
        "preds = model.predict(X_test1, batch_size = 128, verbose = 1)"
      ],
      "execution_count": null,
      "outputs": [
        {
          "output_type": "stream",
          "text": [
            "948/948 [==============================] - 34s 35ms/step\n"
          ],
          "name": "stdout"
        }
      ]
    },
    {
      "cell_type": "code",
      "metadata": {
        "id": "v-cEQw1YOz2s"
      },
      "source": [
        "def line_search_f1_score(y_score, y_test):\n",
        "    max_f1_score = 0\n",
        "    opt_threshold = 0\n",
        "    for threshold in [i*0.01 for i in range(100)]:\n",
        "        y_preds = y_score > threshold\n",
        "        score = f1_score(y_preds, y_test)\n",
        "        if max_f1_score < score:\n",
        "            max_f1_score = score\n",
        "            opt_threshold = threshold\n",
        "    return max_f1_score, opt_threshold"
      ],
      "execution_count": null,
      "outputs": []
    },
    {
      "cell_type": "code",
      "metadata": {
        "id": "eTl7ZLcgORtw"
      },
      "source": [
        "y_test1 = y_test.astype(np.float)\r\n",
        "max_f1_score, threshold = line_search_f1_score(preds, y_test1)"
      ],
      "execution_count": null,
      "outputs": []
    },
    {
      "cell_type": "code",
      "metadata": {
        "colab": {
          "base_uri": "https://localhost:8080/"
        },
        "id": "2Hsl63e2Osab",
        "outputId": "d84a913f-1e45-4bd6-b5cd-51a0bf302255"
      },
      "source": [
        "print(max_f1_score,threshold)"
      ],
      "execution_count": null,
      "outputs": [
        {
          "output_type": "stream",
          "text": [
            "0.6836663049722347 0.38\n"
          ],
          "name": "stdout"
        }
      ]
    },
    {
      "cell_type": "code",
      "metadata": {
        "colab": {
          "base_uri": "https://localhost:8080/"
        },
        "id": "3-WdkrHWO7P7",
        "outputId": "427c750f-fe96-439a-c834-4698938e2832"
      },
      "source": [
        "predictions = [1 if x>0.38 else 0 for x in preds]\r\n",
        "print(accuracy_score(predictions, y_test1))\r\n",
        "print(f1_score(predictions, y_test1))"
      ],
      "execution_count": null,
      "outputs": [
        {
          "output_type": "stream",
          "text": [
            "0.7548294541047268\n",
            "0.6836663049722347\n"
          ],
          "name": "stdout"
        }
      ]
    },
    {
      "cell_type": "code",
      "metadata": {
        "colab": {
          "base_uri": "https://localhost:8080/",
          "height": 701
        },
        "id": "KHK1ixRA2kVx",
        "outputId": "57d3f7f5-3810-44c1-e87e-63c41a7bb3d6"
      },
      "source": [
        "! pip install -q scikit-plot\r\n",
        "import scikitplot as skplt\r\n",
        "skplt.metrics.plot_confusion_matrix(predictions, y_test1,figsize=(12,12), normalize='all')"
      ],
      "execution_count": null,
      "outputs": [
        {
          "output_type": "execute_result",
          "data": {
            "text/plain": [
              "<matplotlib.axes._subplots.AxesSubplot at 0x7f8af9a26128>"
            ]
          },
          "metadata": {
            "tags": []
          },
          "execution_count": 31
        },
        {
          "output_type": "display_data",
          "data": {
            "image/png": "[encoded data removed]",
            "text/plain": [
              "<Figure size 864x864 with 2 Axes>"
            ]
          },
          "metadata": {
            "tags": []
          }
        }
      ]
    },
    {
      "cell_type": "code",
      "metadata": {
        "colab": {
          "base_uri": "https://localhost:8080/",
          "height": 398
        },
        "id": "c16H9EZKZAn6",
        "outputId": "988bd159-43ee-45df-953d-917f39632625"
      },
      "source": [
        "cf_matrix = confusion_matrix(predictions, y_test1)\n",
        "\n",
        "import seaborn as sns\n",
        "# group_names = ['True Neg','False Pos','False Neg','True Pos']\n",
        "# group_counts = ['{0:0.0f}'.format(value) for value in\n",
        "                # cf_matrix.flatten()]\n",
        "group_percentages = ['{0:.2%}'.format(value) for value in\n",
        "                     cf_matrix.flatten()/np.sum(cf_matrix)]\n",
        "# labels = [f'{v1}\\n{v2}\\n{v3}' for v1, v2, v3 in\n",
        "#           zip(group_names,group_counts,group_percentages)]\n",
        "labels = [f'{v1}' for v1 in zip(group_percentages)]\n",
        "\n",
        "# labels = np.asarray(labels).reshape(2,2)\n",
        "sns.heatmap(cf_matrix, annot=labels, fmt='', cmap='Blues')\n",
        "# sns.heatmap(cf_matrix, annot=False, fmt='', cmap='Blues')\n",
        "\n",
        "print(accuracy_score(predictions, y_test1))"
      ],
      "execution_count": null,
      "outputs": [
        {
          "output_type": "error",
          "ename": "ValueError",
          "evalue": "ignored",
          "traceback": [
            "\u001b[0;31m---------------------------------------------------------------------------\u001b[0m",
            "\u001b[0;31mValueError\u001b[0m                                Traceback (most recent call last)",
            "\u001b[0;32m<ipython-input-63-f2bf5874d248>\u001b[0m in \u001b[0;36m<module>\u001b[0;34m()\u001b[0m\n\u001b[1;32m     12\u001b[0m \u001b[0;34m\u001b[0m\u001b[0m\n\u001b[1;32m     13\u001b[0m \u001b[0;31m# labels = np.asarray(labels).reshape(2,2)\u001b[0m\u001b[0;34m\u001b[0m\u001b[0;34m\u001b[0m\u001b[0;34m\u001b[0m\u001b[0m\n\u001b[0;32m---> 14\u001b[0;31m \u001b[0msns\u001b[0m\u001b[0;34m.\u001b[0m\u001b[0mheatmap\u001b[0m\u001b[0;34m(\u001b[0m\u001b[0mcf_matrix\u001b[0m\u001b[0;34m,\u001b[0m \u001b[0mannot\u001b[0m\u001b[0;34m=\u001b[0m\u001b[0mlabels\u001b[0m\u001b[0;34m,\u001b[0m \u001b[0mfmt\u001b[0m\u001b[0;34m=\u001b[0m\u001b[0;34m''\u001b[0m\u001b[0;34m,\u001b[0m \u001b[0mcmap\u001b[0m\u001b[0;34m=\u001b[0m\u001b[0;34m'Blues'\u001b[0m\u001b[0;34m)\u001b[0m\u001b[0;34m\u001b[0m\u001b[0;34m\u001b[0m\u001b[0m\n\u001b[0m\u001b[1;32m     15\u001b[0m \u001b[0;31m# sns.heatmap(cf_matrix, annot=False, fmt='', cmap='Blues')\u001b[0m\u001b[0;34m\u001b[0m\u001b[0;34m\u001b[0m\u001b[0;34m\u001b[0m\u001b[0m\n\u001b[1;32m     16\u001b[0m \u001b[0;34m\u001b[0m\u001b[0m\n",
            "\u001b[0;32m/usr/local/lib/python3.6/dist-packages/seaborn/_decorators.py\u001b[0m in \u001b[0;36minner_f\u001b[0;34m(*args, **kwargs)\u001b[0m\n\u001b[1;32m     44\u001b[0m             )\n\u001b[1;32m     45\u001b[0m         \u001b[0mkwargs\u001b[0m\u001b[0;34m.\u001b[0m\u001b[0mupdate\u001b[0m\u001b[0;34m(\u001b[0m\u001b[0;34m{\u001b[0m\u001b[0mk\u001b[0m\u001b[0;34m:\u001b[0m \u001b[0marg\u001b[0m \u001b[0;32mfor\u001b[0m \u001b[0mk\u001b[0m\u001b[0;34m,\u001b[0m \u001b[0marg\u001b[0m \u001b[0;32min\u001b[0m \u001b[0mzip\u001b[0m\u001b[0;34m(\u001b[0m\u001b[0msig\u001b[0m\u001b[0;34m.\u001b[0m\u001b[0mparameters\u001b[0m\u001b[0;34m,\u001b[0m \u001b[0margs\u001b[0m\u001b[0;34m)\u001b[0m\u001b[0;34m}\u001b[0m\u001b[0;34m)\u001b[0m\u001b[0;34m\u001b[0m\u001b[0;34m\u001b[0m\u001b[0m\n\u001b[0;32m---> 46\u001b[0;31m         \u001b[0;32mreturn\u001b[0m \u001b[0mf\u001b[0m\u001b[0;34m(\u001b[0m\u001b[0;34m**\u001b[0m\u001b[0mkwargs\u001b[0m\u001b[0;34m)\u001b[0m\u001b[0;34m\u001b[0m\u001b[0;34m\u001b[0m\u001b[0m\n\u001b[0m\u001b[1;32m     47\u001b[0m     \u001b[0;32mreturn\u001b[0m \u001b[0minner_f\u001b[0m\u001b[0;34m\u001b[0m\u001b[0;34m\u001b[0m\u001b[0m\n\u001b[1;32m     48\u001b[0m \u001b[0;34m\u001b[0m\u001b[0m\n",
            "\u001b[0;32m/usr/local/lib/python3.6/dist-packages/seaborn/matrix.py\u001b[0m in \u001b[0;36mheatmap\u001b[0;34m(data, vmin, vmax, cmap, center, robust, annot, fmt, annot_kws, linewidths, linecolor, cbar, cbar_kws, cbar_ax, square, xticklabels, yticklabels, mask, ax, **kwargs)\u001b[0m\n\u001b[1;32m    535\u001b[0m     plotter = _HeatMapper(data, vmin, vmax, cmap, center, robust, annot, fmt,\n\u001b[1;32m    536\u001b[0m                           \u001b[0mannot_kws\u001b[0m\u001b[0;34m,\u001b[0m \u001b[0mcbar\u001b[0m\u001b[0;34m,\u001b[0m \u001b[0mcbar_kws\u001b[0m\u001b[0;34m,\u001b[0m \u001b[0mxticklabels\u001b[0m\u001b[0;34m,\u001b[0m\u001b[0;34m\u001b[0m\u001b[0;34m\u001b[0m\u001b[0m\n\u001b[0;32m--> 537\u001b[0;31m                           yticklabels, mask)\n\u001b[0m\u001b[1;32m    538\u001b[0m \u001b[0;34m\u001b[0m\u001b[0m\n\u001b[1;32m    539\u001b[0m     \u001b[0;31m# Add the pcolormesh kwargs here\u001b[0m\u001b[0;34m\u001b[0m\u001b[0;34m\u001b[0m\u001b[0;34m\u001b[0m\u001b[0m\n",
            "\u001b[0;32m/usr/local/lib/python3.6/dist-packages/seaborn/matrix.py\u001b[0m in \u001b[0;36m__init__\u001b[0;34m(self, data, vmin, vmax, cmap, center, robust, annot, fmt, annot_kws, cbar, cbar_kws, xticklabels, yticklabels, mask)\u001b[0m\n\u001b[1;32m    167\u001b[0m                 \u001b[0;32mif\u001b[0m \u001b[0mannot_data\u001b[0m\u001b[0;34m.\u001b[0m\u001b[0mshape\u001b[0m \u001b[0;34m!=\u001b[0m \u001b[0mplot_data\u001b[0m\u001b[0;34m.\u001b[0m\u001b[0mshape\u001b[0m\u001b[0;34m:\u001b[0m\u001b[0;34m\u001b[0m\u001b[0;34m\u001b[0m\u001b[0m\n\u001b[1;32m    168\u001b[0m                     \u001b[0merr\u001b[0m \u001b[0;34m=\u001b[0m \u001b[0;34m\"`data` and `annot` must have same shape.\"\u001b[0m\u001b[0;34m\u001b[0m\u001b[0;34m\u001b[0m\u001b[0m\n\u001b[0;32m--> 169\u001b[0;31m                     \u001b[0;32mraise\u001b[0m \u001b[0mValueError\u001b[0m\u001b[0;34m(\u001b[0m\u001b[0merr\u001b[0m\u001b[0;34m)\u001b[0m\u001b[0;34m\u001b[0m\u001b[0;34m\u001b[0m\u001b[0m\n\u001b[0m\u001b[1;32m    170\u001b[0m             \u001b[0mannot\u001b[0m \u001b[0;34m=\u001b[0m \u001b[0;32mTrue\u001b[0m\u001b[0;34m\u001b[0m\u001b[0;34m\u001b[0m\u001b[0m\n\u001b[1;32m    171\u001b[0m \u001b[0;34m\u001b[0m\u001b[0m\n",
            "\u001b[0;31mValueError\u001b[0m: `data` and `annot` must have same shape."
          ]
        }
      ]
    },
    {
      "cell_type": "code",
      "metadata": {
        "colab": {
          "base_uri": "https://localhost:8080/",
          "height": 295
        },
        "id": "DRu5grQ7ZCbI",
        "outputId": "ea7e28fd-83d3-41c4-dcc8-1d6b3036e0e0"
      },
      "source": [
        "import sklearn.metrics as metrics\n",
        "fpr, tpr, threshold = metrics.roc_curve(y_test, preds)\n",
        "roc_auc = metrics.auc(fpr, tpr)\n",
        "\n",
        "# method I: plt\n",
        "import matplotlib.pyplot as plt\n",
        "plt.title('Receiver Operating Characteristic')\n",
        "plt.plot(fpr, tpr, 'b', label = 'AUC = %0.2f' % roc_auc)\n",
        "plt.legend(loc = 'lower right')\n",
        "plt.plot([0, 1], [0, 1],'r--')\n",
        "plt.xlim([0, 1])\n",
        "plt.ylim([0, 1])\n",
        "plt.ylabel('True Positive Rate')\n",
        "plt.xlabel('False Positive Rate')\n",
        "plt.show()\n"
      ],
      "execution_count": null,
      "outputs": [
        {
          "output_type": "display_data",
          "data": {
            "image/png": "[encoded data removed]",
            "text/plain": [
              "<Figure size 432x288 with 1 Axes>"
            ]
          },
          "metadata": {
            "tags": []
          }
        }
      ]
    },
    {
      "cell_type": "code",
      "metadata": {
        "colab": {
          "base_uri": "https://localhost:8080/",
          "height": 717
        },
        "id": "imH09IONZKoo",
        "outputId": "afef1dd9-09b6-4bdd-ba1d-7dedb950a3ac"
      },
      "source": [
        "from sklearn.metrics import classification_report\n",
        "\n",
        "clf_report = classification_report(y_test,\n",
        "                                   predictions,\n",
        "                                   labels=[0,1],\n",
        "                                   output_dict=True)\n",
        "\n",
        "fig, ax = plt.subplots(figsize=(12,12)) \n",
        "sns.heatmap(pd.DataFrame(clf_report).iloc[:-1, :].T, annot=True,ax=ax,square = False)"
      ],
      "execution_count": null,
      "outputs": [
        {
          "output_type": "execute_result",
          "data": {
            "text/plain": [
              "<matplotlib.axes._subplots.AxesSubplot at 0x7faa1e1a2860>"
            ]
          },
          "metadata": {
            "tags": []
          },
          "execution_count": 24
        },
        {
          "output_type": "display_data",
          "data": {
            "image/png": "[encoded data removed]",
            "text/plain": [
              "<Figure size 864x864 with 2 Axes>"
            ]
          },
          "metadata": {
            "tags": []
          }
        }
      ]
    },
    {
      "cell_type": "code",
      "metadata": {
        "id": "d2W_MqvIZPMX"
      },
      "source": [
        ""
      ],
      "execution_count": null,
      "outputs": []
    }
  ]
}